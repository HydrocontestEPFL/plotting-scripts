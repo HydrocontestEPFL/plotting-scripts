{
 "cells": [
  {
   "cell_type": "code",
   "execution_count": null,
   "metadata": {},
   "outputs": [],
   "source": [
    "%matplotlib notebook\n",
    "import matplotlib.pyplot as plt\n",
    "import pandas\n",
    "import numpy as np\n",
    "\n",
    "testfolder = 'heliceprincipaletest2'\n",
    "#testfolder = 'torqeorangetest2'\n"
   ]
  },
  {
   "cell_type": "code",
   "execution_count": null,
   "metadata": {},
   "outputs": [],
   "source": [
    "# velocity plot\n",
    "df = pandas.read_csv(testfolder+'/_xsens_publisher_node_filter_xs_velocity.csv', sep=';')\n",
    "vel = df[['time_stamp', 'x', 'y', 'z']].copy()\n",
    "#vel.plot(x='time_stamp', secondary_y=True)\n",
    "\n",
    "vel_abs = np.linalg.norm(vel[['x','y']].values, axis=1)\n",
    "plt.title('Velocity')\n",
    "plt.xlabel('time')\n",
    "plt.ylabel('v [m/s]')\n",
    "plt.plot(df[['time_stamp']], vel_abs)\n",
    "plt.show()\n"
   ]
  },
  {
   "cell_type": "code",
   "execution_count": null,
   "metadata": {},
   "outputs": [],
   "source": [
    "import folium\n",
    "from folium import features\n",
    "import branca\n",
    "import geojson\n",
    "\n",
    "df = pandas.read_csv(testfolder+'/_xsens_publisher_node_filter_xs_latlongalt.csv', sep=';')\n",
    "\n",
    "points = df[['latitude','longitude']].values.tolist()\n",
    "\n",
    "#subsample\n",
    "subsample = 5\n",
    "points = points[0:-1:subsample]\n",
    "velocity = vel_abs[0:-1:subsample]\n",
    "\n",
    "# plot n points (folium has issues for n > 20000)\n",
    "n = 20000\n",
    "start = int(0.01*len(points))\n",
    "points = points[start:start+n]\n",
    "velocity = velocity[start:start+n]\n",
    "\n",
    "#center = list(points[0])\n",
    "center = list(points[0])\n",
    "my_map = folium.Map(location=center, zoom_start=19, max_zoom=23)\n",
    "#my_map.line(locations=points)\n",
    "\n",
    "color_line = features.ColorLine(\n",
    "    positions=points,\n",
    "    colors=velocity,\n",
    "    colormap=['lightgreen', 'y', 'orange', 'r', 'purple'],\n",
    "    weight=1)\n",
    "\n",
    "color_line.add_to(my_map)\n",
    "\n",
    "\n",
    "my_map      "
   ]
  },
  {
   "cell_type": "code",
   "execution_count": null,
   "metadata": {},
   "outputs": [],
   "source": [
    "import os\n",
    "import time\n",
    "from selenium import webdriver\n",
    "\n",
    "name = 'traj1'\n",
    "fn = name+'.html'\n",
    "tmpurl='file://{path}/{mapfile}'.format(path=os.getcwd(),mapfile=fn)\n",
    "my_map.save(fn)\n",
    "\n",
    "browser = webdriver.Firefox()\n",
    "browser.get(tmpurl)\n",
    "time.sleep(2)  #Give the map tiles some time to load\n",
    "browser.save_screenshot(os.path.join('plot', name+'.png'))\n",
    "browser.quit()"
   ]
  },
  {
   "cell_type": "code",
   "execution_count": null,
   "metadata": {},
   "outputs": [],
   "source": []
  }
 ],
 "metadata": {
  "kernelspec": {
   "display_name": "Python 3",
   "language": "python",
   "name": "python3"
  },
  "language_info": {
   "codemirror_mode": {
    "name": "ipython",
    "version": 3
   },
   "file_extension": ".py",
   "mimetype": "text/x-python",
   "name": "python",
   "nbconvert_exporter": "python",
   "pygments_lexer": "ipython3",
   "version": "3.6.5"
  }
 },
 "nbformat": 4,
 "nbformat_minor": 2
}
